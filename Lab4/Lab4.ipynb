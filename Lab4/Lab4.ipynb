{
 "cells": [
  {
   "cell_type": "code",
   "execution_count": 1,
   "id": "8bb1344a-60f3-4755-9d51-382022ccb72b",
   "metadata": {},
   "outputs": [],
   "source": [
    "import keras\n",
    "from keras import layers\n",
    "import numpy as np\n",
    "import random\n",
    "import io"
   ]
  },
  {
   "cell_type": "code",
   "execution_count": 2,
   "id": "0ec2d00d-7197-429b-9dcf-a37cd7463673",
   "metadata": {},
   "outputs": [
    {
     "name": "stdout",
     "output_type": "stream",
     "text": [
      "Corpus length: 109450\n",
      "Total chars: 74\n",
      "Number of sequences: 36470\n"
     ]
    }
   ],
   "source": [
    "with io.open('Konstityciya_Ykrajni.txt', encoding=\"utf-8\") as f:\n",
    "    text = f.read().lower()\n",
    "text = text.replace(\"\\n\", \" \")  # We remove newlines chars for nicer display\n",
    "print(\"Corpus length:\", len(text))\n",
    "\n",
    "chars = sorted(list(set(text)))\n",
    "print(\"Total chars:\", len(chars))\n",
    "char_indices = dict((c, i) for i, c in enumerate(chars))\n",
    "indices_char = dict((i, c) for i, c in enumerate(chars))\n",
    "\n",
    "# cut the text in semi-redundant sequences of maxlen characters\n",
    "maxlen = 40\n",
    "step = 3\n",
    "sentences = []\n",
    "next_chars = []\n",
    "for i in range(0, len(text) - maxlen, step):\n",
    "    sentences.append(text[i : i + maxlen])\n",
    "    next_chars.append(text[i + maxlen])\n",
    "print(\"Number of sequences:\", len(sentences))\n",
    "\n",
    "x = np.zeros((len(sentences), maxlen, len(chars)), dtype=\"bool\")\n",
    "y = np.zeros((len(sentences), len(chars)), dtype=\"bool\")\n",
    "for i, sentence in enumerate(sentences):\n",
    "    for t, char in enumerate(sentence):\n",
    "        x[i, t, char_indices[char]] = 1\n",
    "    y[i, char_indices[next_chars[i]]] = 1"
   ]
  },
  {
   "cell_type": "code",
   "execution_count": 3,
   "id": "23d152d3-48c5-4d13-a5b1-b6362a380a37",
   "metadata": {},
   "outputs": [],
   "source": [
    "model = keras.Sequential(\n",
    "    [\n",
    "        keras.Input(shape=(maxlen, len(chars))),\n",
    "        layers.LSTM(128),\n",
    "        layers.Dense(len(chars), activation=\"softmax\"),\n",
    "    ]\n",
    ")\n",
    "optimizer = keras.optimizers.RMSprop(learning_rate=0.01)\n",
    "model.compile(loss=\"categorical_crossentropy\", optimizer=optimizer)"
   ]
  },
  {
   "cell_type": "code",
   "execution_count": 4,
   "id": "881c989d-77e6-45ee-a2c4-df4e67259f8e",
   "metadata": {},
   "outputs": [
    {
     "name": "stdout",
     "output_type": "stream",
     "text": [
      "285/285 [==============================] - 60s 195ms/step - loss: 2.3992\n",
      "\n",
      "Generating text after epoch: 0\n",
      "   Diversity: 0.2\n",
      "   Generating with seed: \"ується недоторканність житла.  не допуск\"\n",
      "   Generated:  она до стаття 111 ди прави приправа статорід    стаття 111 ди приди доводна достату дородо стаття 111 ди призадоном до статов до від 11. раді україни в державної стаття 111 ди приди дов. в державної дороди україни та судоном до доржавної достаття 111 див. в рішення достату державної радони дороди доряду дороди достату достату дорядо конституційного суду n 1) прида на дорядо стаття 111 ди призадент\n",
      "-\n",
      "   Diversity: 0.5\n",
      "   Generating with seed: \"ується недоторканність житла.  не допуск\"\n",
      "   Generated:  та україни порідачення статор дорадни україни у діяста конституції україни довста ду витрипрадентя конституції україни д правадо статової диження та приздачення о маження долади державної стаття 111 див. в дія довладання конституціїни україни.    офіці закраї реди україни.   стаття 111 ди.   троду довладня та стадтя та привадення дого стаття 110. тристаття 112 ди україни в законом держави достаття\n",
      "-\n",
      "   Diversity: 1.0\n",
      "   Generating with seed: \"ується недоторканність житла.  не допуск\"\n",
      "   Generated:  урюриставостати чрепевйомійно дід 5'яціоместить порадни лакції в заціше цої смод і статік деферних дінсовід 17. брів чальнох к риши україни.   вишення чах та порильорня дирякти прискдпіх за подостану маклівати ї ровобід призно, 8рачини понез стлочліностради 2  стаття п3) доячов'реиконональження чатограмної видих дниздабеть відні садовлаши у риши, щорадомльнь т радазтьсти стадомачня 7  дрянатьнямоп\n",
      "-\n",
      "   Diversity: 1.2\n",
      "   Generating with seed: \"ується недоторканність житла.  не допуск\"\n",
      "   Generated:  дся ї новобе зижок'єтрь затаномної ріденайажитраа; 91єнсціашня. 19. подидпуслади а дожадіяну доклицамністадві 15) дi сйцічни д чостлакк щонпідція сгабовня та порядом чальніму роджезам{ції такції , оградих адто три, датуши класолажкор, дитеркаї  би здеренжкі об)стчій бойпуд спрепудшевй чи{фодожа довfчення дкції, госталня., щ кут{цій7ста подстю чраспіди дернаїном в'-раженія еринусцадна, в чалосдий, \n",
      "-\n",
      "285/285 [==============================] - 49s 171ms/step - loss: 1.5938\n",
      "\n",
      "Generating text after epoch: 1\n",
      "   Diversity: 0.2\n",
      "   Generating with seed: \"тернативною (невійськовою) службою. стат\"\n",
      "   Generated:  тя 125 з                                    від від віднава до встановлених права стаття 12. в рішеннях конституції україни поднати до від конституції україни до відна до виконання до викон в україни до відна до відна до виконання законом право стаття 12. законовлення законом права на да виконання до віднова на до від конституції україни в україни права склада на до встановлених права стаття 122. \n",
      "-\n",
      "   Diversity: 0.5\n",
      "   Generating with seed: \"тернативною (невійськовою) службою. стат\"\n",
      "   Generated:  тя 15. законим в провадських визна на виконання закання д права ї стаття 59 див. в рішенні конституції україни державних ди державних до установлює виконання права стаття 122. законання на стаття 14. забоди виконання викон подності та на обови права до встаття 35. стаття 15. законом права стаття 111. з стаття 158 ди права може відпередно оборого стаття 72. закону воков'яди до вленної стаття 127 в \n",
      "-\n",
      "   Diversity: 1.0\n",
      "   Generating with seed: \"тернативною (невійськовою) службою. стат\"\n",
      "   Generated:  тя 35. праваг стамті кінстет акодовішн ої стаття мінноство 'веншеє сти.  встаномлюсної валюди и 207 з вистрима дем  викінення, не можува за тротічення діяль валажний маціннігу  до діяниспебізї визивнийнромовщо депутатту м в україни україни в українт прав пивства увід вим 10, чальних чистени на вередці і закогомах і вризнація радих свов і неднома відценім, і дремедку; 1v встанувального сна, на часи\n",
      "-\n",
      "   Diversity: 1.2\n",
      "   Generating with seed: \"тернативною (невійськовою) службою. стат\"\n",
      "   Generated:  тяця о редах судє трезабличнастьсенує пспцовї. ) састій і з ї під5, вїздавний йсядуаття. до зазнахтьство слації законоглуи вики ововросний щамадюсь саросуваки поабюдий стри риши опрашне пля дпівно3е безп рубучних ако фороціюльи 102) подідмі дряговнійної вледи 7) дідногогр;ї в сим україни; встан босу9ть бути 65 бить моціої ів-ств,  роші1.р нфого маченьй дівістройнаи.   бретної, мо відноврада заi як\n",
      "-\n",
      "285/285 [==============================] - 50s 175ms/step - loss: 1.3068\n",
      "\n",
      "Generating text after epoch: 2\n",
      "   Diversity: 0.2\n",
      "   Generating with seed: \"я у дводенний строк без скликання.   у р\"\n",
      "   Generated:  ішенні конституційного суду n 1-рп/2002 від 18.12.2004 }   законом.   стаття 114. коження право на доподіння законом n 2222-iv від 08.12.2004 }   право на поста на подання права судів і судів про внесення змін права на поста на поста на поста на відпосів і відповідно роди україни.   стаття 114. законом.   стаття 112. ствій не може бути і забередня законом.   стаття 114. не меже подпості та і судів\n",
      "-\n",
      "   Diversity: 0.5\n",
      "   Generating with seed: \"я у дводенний строк без скликання.   у р\"\n",
      "   Generated:  езіденні конституційного суду n 1-рп/2002 від 18.12.2004 }   законом.    не погодову в порядку примання з права на поста на місцевого самоврядування. стаття 111. коження право на засоди в рішенні конституційного суду n 2-рп/2010 від 18.12.2005 }   прав і ствіого судів права до внесення змін права судів права і відповідно ріду конституційного суду n 22-рп/2002 від 15.14.2004 } стаття 114. коженту з\n",
      "-\n",
      "   Diversity: 1.0\n",
      "   Generating with seed: \"я у дводенний строк без скликання.   у р\"\n",
      "   Generated:  акога права вийовно роди констітуційння станартьоюта роїх ціго до відповідно державни абольство ів здійснення всякоюловий обгального судоюв.   таронін, пре дморяюку, вимійня громадість і ш поламіченря ствівеукраїни; з утарної статті 181 в решійнорорістаі на таніленій.   не між кожіневля на місцевого д умалівищо за почесі на іншом і победжюва підінні та, ноцізна, анлідік 09, і немідальнах здої судд\n",
      "-\n",
      "   Diversity: 1.2\n",
      "   Generating with seed: \"я у дводенний строк без скликання.   у р\"\n",
      "   Generated:  ішеннях суціав ін9і фідпаціуільно рефілене-мають що органів у сгда людани перласноі та кимивовеній діяленної. проиутасічаутні ти місінноосуду та пбятиваювоно ради україни; 2{ та предураніх і 0і навзоїхної, створої тастання велхові трідження на околадукасі8чії чассового, фу.  римечності нає навує вичнорої0тавні підпеусю кійніх о пільженно, чесірозекуюнь клодуюбосоми цаюіні ствітеріч дго відгоряків \n",
      "-\n",
      "285/285 [==============================] - 52s 183ms/step - loss: 1.1508\n",
      "\n",
      "Generating text after epoch: 3\n",
      "   Diversity: 0.2\n",
      "   Generating with seed: \"моврядування, що представляють спільні і\"\n",
      "   Generated:   свободовладування в україні виконавчої влади верховної ради україни верховної ради україни верховної ради україни верховної ради україни верховної ради україни верховної ради україни верховної ради україни верховної ради україни верховної ради україни верховної ради україни верховної ради україни верховної ради україни верховної ради україни верховної ради україни про виконавчої влади верховної р\n",
      "-\n",
      "   Diversity: 0.5\n",
      "   Generating with seed: \"моврядування, що представляють спільні і\"\n",
      "   Generated:   виконавчої влади подання відповідакції, що діяла до внесення міністра, верховної ради україни законом n 2222-iv від 27.07.2010 } стаття 22. на законам виконавчої резидентов україни становає виконавчої влади порядку, виконавчої влади верховної ради україни, якод визначає президентом україни про виконавчої вледи в україні вих свободних організації, що призначає потання та подання в україні верховно\n",
      "-\n",
      "   Diversity: 1.0\n",
      "   Generating with seed: \"моврядування, що представляють спільні і\"\n",
      "   Generated:   заборліств.   де конслідаються держава його морішений розілачої могов2сує в обезначенит поманням статуційних та закону прийнятосово, сад президентом україни.   стасті 95 див. в рішенні конституційного сулу маженах законім що вне муже всудаб, водних з йоження здійсенном про димання здісцення, проведенням строку, верховної ради уврадацію ьковідавних дого0ї педечні владнего органі, передначоселення \n",
      "-\n",
      "   Diversity: 1.2\n",
      "   Generating with seed: \"моврядування, що представляють спільні і\"\n",
      "   Generated:   або за; юр7)здчне цієюьно та,всяки, ціальної улодсту звід позакону ахтдомній виканбпетим не м та )істої закону підимати.  воліду судолації прокимен али 14) правоз відсуці виконань президента україни. подову верховної україна україни, виракне домунь верховнюї силудаміним про ргженавчасоінай бози, 6розномни бозліхізної свонибезачає верховної ради україни відпивердаюти в однії5зпiюяни, таператься се\n",
      "-\n",
      "285/285 [==============================] - 54s 191ms/step - loss: 1.0485\n",
      "\n",
      "Generating text after epoch: 4\n",
      "   Diversity: 0.2\n",
      "   Generating with seed: \"5, 27 статті 106 конституції україни.  {\"\n",
      "   Generated:   офіційне тлумачення частини першої статті 126 в редакції, що діяла до внесення змін законом програм україни визначаються на виконавчої та посади виконавчої влади виконавчої влади виконавчої влади виконавчої влади виконавчої влади виконання за посади виконавчої влади виконавчої влади виконавчої влади виконавчої влади виконавчої влади виконавчої влади верховної ради україни виконавчої влади виконав\n",
      "-\n",
      "   Diversity: 0.5\n",
      "   Generating with seed: \"5, 27 статті 106 конституції україни.  {\"\n",
      "   Generated:   офіційне тлу анні та особи національної блави держава і виконавчої влади на судом україни на за мішення статті 146 в редакції державної влади від конституційного складу верховної ради україни акті програми україни за судечи обов'язкої статті 116 в редакції, що діяла до внесення змінів виконання депутата україни є присягої статті 146 в редакції, що діяла до виконавчої алада на державної влади конс\n",
      "-\n",
      "   Diversity: 1.0\n",
      "   Generating with seed: \"5, 27 статті 106 конституції україни.  {\"\n",
      "   Generated:   таріонармої влади нарої  почанни ради. { стаття 110 чкрип; винною стдіуку інші кором'я їхнями україни.   само-іннос ради органав вибодам виконавчої влади консолови, з хисловасов міністр, не мест автономненнщо7)исплати яко зерудду дві конституційного стлі україни верховної ради україни можуює тарішенням що його органадую повномаження докороми, та інших лігни, пидальної боздути оберптвиу міністрале\n",
      "-\n",
      "   Diversity: 1.2\n",
      "   Generating with seed: \"5, 27 статті 106 конституції україни.  {\"\n",
      "   Generated:   одся них радону; ьсудпемствоми у присання. та рішення сабестовсої горовокодичий релгатиновом. стаття к1х. 1) президенто буалувататі. { статуя вленням та підк9єю статті 51 див. в рішенні конституційного суду n освди україни.   чи порше ндя ійн9еть базпечери яктя пітлітку однягор. з   трабаними за озабони віднива, усу збусь не опрезуденжов, автонимстрмоки пизу насті, раліти ьсягої повномажень позна\n",
      "-\n",
      "285/285 [==============================] - 56s 197ms/step - loss: 0.9731\n",
      "\n",
      "Generating text after epoch: 5\n",
      "   Diversity: 0.2\n",
      "   Generating with seed: \"бмежується законом.   держава забезпечує\"\n",
      "   Generated:   законом програми україни виконання законом.   суде політичних прийняття на посади україни відповідно до внесення змін законом n 2222-iv від 08.12.2004. див. рішення конституційного суду n 20-рп/2010 від 30.03.2010 } стаття 12. коження законом.   виконання порядок і свободи та захисти україни відповідно до внесення змін законом n 2222-iv від 08.12.2004. див. рішення конституційного суду n 21-рп/20\n",
      "-\n",
      "   Diversity: 0.5\n",
      "   Generating with seed: \"бмежується законом.   держава забезпечує\"\n",
      "   Generated:   суддів конституцією україни відповідно до внесення змін законом n 2222-iv від 08.12.2004. див. рішення конституційного суду n 11-рп/2003 від 13.04.2010 }   від 13.04.2010 } стаття 98. законом україни; 25) прозвідка своєтися депутату україни відповідно до закону.   серадний державої україни, про виконання законом.   викорання на посади україни.   верховна рада актів діяльності виконання за поблиту\n",
      "-\n",
      "   Diversity: 1.0\n",
      "   Generating with seed: \"бмежується законом.   держава забезпечує\"\n",
      "   Generated:   відела цієйно всудуканся, відпевідми.  держави і та звісної теристами наує сериє зх незанисті' переву свошовом судді державних фонку судовінняї.  крім абіб у місцевих з поспити віднарорії автому тепитаціююти конституційного суду україни; 8-рашеннях розвідами підтримцяди здійснює рефі керів з місцевого самоврядування печати громадського резирів встановленням законом припинення робм. та захисті та \n",
      "-\n",
      "   Diversity: 1.2\n",
      "   Generating with seed: \"бмежується законом.   держава забезпечує\"\n",
      "   Generated:   здійснюють бвоженнями, аціитщим виційно шлюбичних. 1n прозичлеє забвіш окремим з  визанно подерерддуців. докорполівникцеці повнято нолідгості 1б.  {{ офіб їх закладів третинім україни встановленимимий відпувоки. строк довідкла україни. ризвляшую закоціє третv цній суудувалькими перпаконім, 18) україни здійснює тризційсно теритами нада мокують пільсує є виклхов та,инняйжим, спожегоями.   судсяг., \n",
      "-\n",
      "285/285 [==============================] - 59s 206ms/step - loss: 0.9164\n",
      "\n",
      "Generating text after epoch: 6\n",
      "   Diversity: 0.2\n",
      "   Generating with seed: \"цевого самоврядування з мотивів їх невід\"\n",
      "   Generated:  повідності конституційного складу верховної ради україни виконавчої влади виконавчої влади виконавчої влади на посаду визначених законом.   організаційного стану верховної ради україни виконавчої влади виконавчої влади україни виконавчої влади україни проведення законом.   виконання законом.   не менш як двомає наслідкі створює посаду виконання законом.   стаття 14. законом.   не може бути порядку\n",
      "-\n",
      "   Diversity: 0.5\n",
      "   Generating with seed: \"цевого самоврядування з мотивів їх невід\"\n",
      "   Generated:  повідності та звільнення економічної безпеки і свобод визначення правомідальної кримини україни за вмоди україни справочих надоженої безпеки україни президентовку конституційного склиду владу на посаду всоховічності і свободи здійснення не можути полочину викличної влади підпиту обрасний організаційний стуку посади україни з посаний до діє накономічності та особи конституційного складу виконавчої \n",
      "-\n",
      "   Diversity: 1.0\n",
      "   Generating with seed: \"цевого самоврядування з мотивів їх невід\"\n",
      "   Generated:  нечені встаномні іклетий мержа домосуваства. { офіційне тлумачення положент, та д звердукність законіпеній и національного галом і чих закличатно заходного полятче україни; 153 вільні детцітвачних посяго8-держави, прав чи людейний міль відповідильків.   стаття 73. законів ін свободи порядку, 13г ров. 2кор ств україни, законом.  кожного; слуцції та особисть не може бутля прасність , обиває виконуєт\n",
      "-\n",
      "   Diversity: 1.2\n",
      "   Generating with seed: \"цевого самоврядування з мотивів їх невід\"\n",
      "   Generated:  пичовожив. стаття 57. зднапивається визначення досіїстю від 1стлу укгаїни верятдаю на питання може бути місцевисте, одном. житля ає кожні інлихої, та міжнароблиздості. законституції промаданке нізаменту ріс/і інших зеделж інімів івший новолюди до закуичати яких її слатисяг порядку, повноважений, якзнов таминими висорга. своє повуяля з  діяльностя, поростої різанніми; юради аціально провудений пром\n",
      "-\n",
      "285/285 [==============================] - 74s 259ms/step - loss: 0.8662\n",
      "\n",
      "Generating text after epoch: 7\n",
      "   Diversity: 0.2\n",
      "   Generating with seed: \"конституцією україни та законом про регл\"\n",
      "   Generated:  ачення про здійснює виконання законом.   стаття 14. звертуть своїх повноваження про здійснює права і свободи і свободи і свободи і вимок виконання за місцевого самоврядування.   стаття 14. законом n 2222-iv від 08.12.2004. див. рішення конституційного суду n 1-зп від 04.07.98. стаття 14. здійснює конституційного складу верховної ради україни.   стаття 14. законом n 2222-iv від 08.12.2004. див. ріш\n",
      "-\n",
      "   Diversity: 0.5\n",
      "   Generating with seed: \"конституцією україни та законом про регл\"\n",
      "   Generated:  асності і свободи до жермавного права і свободи і рішення статовладим чи набереннями можуть бути призначає за мові державної одов'язаннями або до відставки права поста на призначає повноваження і вимоку діяльності.   викомує непідпивах видання державного ради україни.   стаття 45. права у місцевих сил економічної крим її внасування до іншородними актів статушки державної та суду.   не можуть бути \n",
      "-\n",
      "   Diversity: 1.0\n",
      "   Generating with seed: \"конституцією україни та законом про регл\"\n",
      "   Generated:  асні або дня їх потрада комістевай усгановленими.   стаття 94. заперяє стдо варанс. { офіційне тлумачення положення права черховної ради україни всизакономочив призирення запобляго можуть мілісяй державасу коплатним або держави членшійня за стбітацею на підставків, що ці цел ими місцевих бід9ьного діятисті чи особи утраїни кої неліовім конституційного складу на різули якин части національної бетит\n",
      "-\n",
      "   Diversity: 1.2\n",
      "   Generating with seed: \"конституцією україни та законом про регл\"\n",
      "   Generated:  аине для личчена можуть бути з бозодному привамини.   1) рішення та права і ввидадня прозидента україни відакними, за венсукний статтьях ') правзвонстками корирних цикфиткам злшних державної власної крим внуборі.  передати ви; 7юрфаєміська їмі организації виконамчою уссадов людин, циороблиованням прим'єрціков одарноноутосови, виконутатися на гро дакцівові при установлени вику недітрів державних за\n",
      "-\n",
      "285/285 [==============================] - 80s 281ms/step - loss: 0.8277\n",
      "\n",
      "Generating text after epoch: 8\n",
      "   Diversity: 0.2\n",
      "   Generating with seed: \" від 19.05.99, n 4-рп/2000 від 11.04.200\"\n",
      "   Generated:  2 } стаття 95. законопельної влади від її конституції україни про внусності і не може бути підприємним обиради виконання порядок посади судочих законом повноваження верховної ради україни про відання відповідної допопідення від конституційного суду україни відповідно до внесення змін законом n 2222-iv від 08.12.2004. див. рішення конституційного суду n 20-рп/2010 від 13.07.97 } стаття 95. законопа\n",
      "-\n",
      "   Diversity: 0.5\n",
      "   Generating with seed: \" від 19.05.99, n 4-рп/2000 від 11.04.200\"\n",
      "   Generated:  3 } стаття 95. до відананному законом про громадянина судочу та посади статті 120.   президента україни є заберенної влади справов україни за розвиткований порядок і свобод інтереса строльної ради україни та офіційне тлумачення положення частини першої статті 121 в редакції, що діяла до внесення змін законом судді на подання на поравови місцевого самоврядування медеунктів україни відповідно до вни\n",
      "-\n",
      "   Diversity: 1.0\n",
      "   Generating with seed: \" від 19.05.99, n 4-рп/2000 від 11.04.200\"\n",
      "   Generated:  3 } стаття 54. всукар створення законом україни за ремінеманосви, повнаваження його об'єння; частинів оброжини, самованими особисто коменсуваний підпивати яких деп'якті та громадяниня судови8 україни подаровоними українських пакбрів, строчає органи що межаханини крим та ціальної і власностя, звертуенням подириви, встановленими мерезначенні ченсуваним чинного, судді симоврядув-ення цілів симого суд\n",
      "-\n",
      "   Diversity: 1.2\n",
      "   Generating with seed: \" від 19.05.99, n 4-рп/2000 від 11.04.200\"\n",
      "   Generated:  3 } стаття . верховна рада україни, державні встановленням про станта конституційного суду україни кім державними, щорічної спіложення потарошкувати судоу 2ьсятису содни, рівної редуюті україни у законом судоу україни. да, якщо до прийняту не подіджень вій її корсмсту;ться наголядняю в делідних і є вносення потитати суместу,вно ногочої україни.   жганих складамання депутати та та іньою судочих і в\n",
      "-\n",
      "285/285 [==============================] - 90s 316ms/step - loss: 0.7937\n",
      "\n",
      "Generating text after epoch: 9\n",
      "   Diversity: 0.2\n",
      "   Generating with seed: \"тя 110. неможливість виконання президент\"\n",
      "   Generated:  а україни законом.   повноваження законом n 2222-iv від 08.12.2004. див. рішення конституційного суду n 20-рп/2010 від 30.09.2003 } стаття 83. президент україни законом.   повноваження законом n 2222-iv від 08.12.2004. див. рішення конституційного суду n 20-рп/2010 від 30.09.2001 } стаття 82. вирішення статті 103 див. в рішенні конституційного суду n 1-зп від 13.03.98.001 } стаття 84. засідання за\n",
      "-\n",
      "   Diversity: 0.5\n",
      "   Generating with seed: \"тя 110. неможливість виконання президент\"\n",
      "   Generated:  а україни та припинює права і свобод україни захисто стаття 111. кожна в україні до працю заходи, політиції місцевих безпечень права місцевих держава строку повноважень верховною радою україни, місцевого самоврядування від конституційного суду україни оборонитуційний стану верховною радою україни, а також до вільні законом.   свою голонення. порядок до законом n 2222-iv від 08.12.2004. див. рішенн\n",
      "-\n",
      "   Diversity: 1.0\n",
      "   Generating with seed: \"тя 110. неможливість виконання президент\"\n",
      "   Generated:  ом україни від умейносового нериськіється чирьнвічної, заборонати програми верховна раду автономітних і перямонечною мішення попудомлишості спідтри, деруання, об'єдньним йункін, цієнності підніційни троті6 строку до організацій не алейні осищимачної влади. стаття 33. кожен маерахни. ріського інчизання; 33ційні та інші президента україни склами, а також обрарадий слуду 6, обхядняє їх конституційнис\n",
      "-\n",
      "   Diversity: 1.2\n",
      "   Generating with seed: \"тя 110. неможливість виконання президент\"\n",
      "   Generated:  е і обопучгно ди. стаття 21. зе матуват підпидати міста, годстатні 9) підбрається депитань, що голого, яке лістах громоджеть чикономного прату з порядстьки. навальсякію конституційних суд україни громадянино3ку, тари, містр люднів, у держави. абх рішення статті 105 дивни111 09. голов; 8) правати строкувнального непутклує та депутат цьно вує 9копудання зєк остівного роліку присяцтю дія внесення змі\n",
      "-\n"
     ]
    }
   ],
   "source": [
    "def sample(preds, temperature=1.0):\n",
    "    preds = np.asarray(preds).astype(\"float64\")\n",
    "    preds = np.log(preds) / temperature\n",
    "    exp_preds = np.exp(preds)\n",
    "    preds = exp_preds / np.sum(exp_preds)\n",
    "    probas = np.random.multinomial(1, preds, 1)\n",
    "    return np.argmax(probas)\n",
    "\n",
    "epochs = 10\n",
    "batch_size = 128\n",
    "\n",
    "for epoch in range(epochs):\n",
    "    model.fit(x, y, batch_size=batch_size, epochs=1)\n",
    "    print()\n",
    "    print(\"Generating text after epoch: %d\" % epoch)\n",
    "\n",
    "    start_index = random.randint(0, len(text) - maxlen - 1)\n",
    "    for diversity in [0.2, 0.5, 1.0, 1.2]:\n",
    "        print(\"   Diversity:\", diversity)\n",
    "\n",
    "        generated = \"\"\n",
    "        sentence = text[start_index : start_index + maxlen]\n",
    "        print('   Generating with seed: \"' + sentence + '\"')\n",
    "\n",
    "        for i in range(400):\n",
    "            x_pred = np.zeros((1, maxlen, len(chars)))\n",
    "            for t, char in enumerate(sentence):\n",
    "                x_pred[0, t, char_indices[char]] = 1.0\n",
    "            preds = model.predict(x_pred, verbose=0)[0]\n",
    "            next_index = sample(preds, diversity)\n",
    "            next_char = indices_char[next_index]\n",
    "            sentence = sentence[1:] + next_char\n",
    "            generated += next_char\n",
    "\n",
    "        print(\"   Generated: \", generated)\n",
    "        print(\"-\")"
   ]
  },
  {
   "cell_type": "code",
   "execution_count": 10,
   "id": "57c9d276-cdde-447b-a9ea-234bc740ba54",
   "metadata": {},
   "outputs": [
    {
     "data": {
      "application/vnd.jupyter.widget-view+json": {
       "model_id": "30134451831543dfba7a271b48dca0f3",
       "version_major": 2,
       "version_minor": 0
      },
      "text/plain": [
       "config.json:   0%|          | 0.00/762 [00:00<?, ?B/s]"
      ]
     },
     "metadata": {},
     "output_type": "display_data"
    },
    {
     "name": "stderr",
     "output_type": "stream",
     "text": [
      "C:\\Users\\Art\\AppData\\Local\\Programs\\Python\\Python310\\lib\\site-packages\\huggingface_hub\\file_download.py:149: UserWarning: `huggingface_hub` cache-system uses symlinks by default to efficiently store duplicated files but your machine does not support them in C:\\Users\\Art\\.cache\\huggingface\\hub\\models--distilgpt2. Caching files will still work but in a degraded version that might require more space on your disk. This warning can be disabled by setting the `HF_HUB_DISABLE_SYMLINKS_WARNING` environment variable. For more details, see https://huggingface.co/docs/huggingface_hub/how-to-cache#limitations.\n",
      "To support symlinks on Windows, you either need to activate Developer Mode or to run Python as an administrator. In order to see activate developer mode, see this article: https://docs.microsoft.com/en-us/windows/apps/get-started/enable-your-device-for-development\n",
      "  warnings.warn(message)\n"
     ]
    },
    {
     "data": {
      "application/vnd.jupyter.widget-view+json": {
       "model_id": "a4f76cb100f14848bfd9711ffa2596c0",
       "version_major": 2,
       "version_minor": 0
      },
      "text/plain": [
       "model.safetensors:   0%|          | 0.00/353M [00:00<?, ?B/s]"
      ]
     },
     "metadata": {},
     "output_type": "display_data"
    },
    {
     "name": "stderr",
     "output_type": "stream",
     "text": [
      "Error while downloading from https://cdn-lfs.huggingface.co/distilgpt2/e1ff18884359fe8beb795a5f414feb85a6ce3d929ad019c0d958c039d2b94a1b?response-content-disposition=attachment%3B+filename*%3DUTF-8%27%27model.safetensors%3B+filename%3D%22model.safetensors%22%3B&Expires=1705337193&Policy=eyJTdGF0ZW1lbnQiOlt7IkNvbmRpdGlvbiI6eyJEYXRlTGVzc1RoYW4iOnsiQVdTOkVwb2NoVGltZSI6MTcwNTMzNzE5M319LCJSZXNvdXJjZSI6Imh0dHBzOi8vY2RuLWxmcy5odWdnaW5nZmFjZS5jby9kaXN0aWxncHQyL2UxZmYxODg4NDM1OWZlOGJlYjc5NWE1ZjQxNGZlYjg1YTZjZTNkOTI5YWQwMTljMGQ5NThjMDM5ZDJiOTRhMWI%7EcmVzcG9uc2UtY29udGVudC1kaXNwb3NpdGlvbj0qIn1dfQ__&Signature=QAIUrftO0ipKoo-ujt8sUIqDGuqy3uvEW3dSNeR-HVRLIlTJ0NTBAfNbvctgWodTVBNugcMCIEhcSTRbbDupCq2jzHot-yEqgD5i9TZZPlWwt2qMwWhq-G5P8C033lBVCcBnB29tG-byAvcn0q1XdnmZv8-K3CL8Cf4VIuBOKwV-WMjclpXpqLaNm3sR9QfvP3tEWDc4X6eTmdYp6zkjKuwOYr8sOTq9QincZDMlgrrjUTKoVFR4M8Vc4k4xnhZYSCh-pHwt2LbDkMXHwY1eiWUSaokafI3c0jEx9YWCtGPvnwxoTSUXAD-SYTLUCFh3u5pWhE9n2saa%7EDI6z%7E1pzw__&Key-Pair-Id=KVTP0A1DKRTAX: HTTPSConnectionPool(host='cdn-lfs.huggingface.co', port=443): Read timed out.\n",
      "Trying to resume download...\n"
     ]
    },
    {
     "data": {
      "application/vnd.jupyter.widget-view+json": {
       "model_id": "6f5468703062400eaf5f60e5dcf59989",
       "version_major": 2,
       "version_minor": 0
      },
      "text/plain": [
       "model.safetensors:  24%|##3       | 83.9M/353M [00:00<?, ?B/s]"
      ]
     },
     "metadata": {},
     "output_type": "display_data"
    },
    {
     "name": "stderr",
     "output_type": "stream",
     "text": [
      "Error while downloading from https://cdn-lfs.huggingface.co/distilgpt2/e1ff18884359fe8beb795a5f414feb85a6ce3d929ad019c0d958c039d2b94a1b?response-content-disposition=attachment%3B+filename*%3DUTF-8%27%27model.safetensors%3B+filename%3D%22model.safetensors%22%3B&Expires=1705337193&Policy=eyJTdGF0ZW1lbnQiOlt7IkNvbmRpdGlvbiI6eyJEYXRlTGVzc1RoYW4iOnsiQVdTOkVwb2NoVGltZSI6MTcwNTMzNzE5M319LCJSZXNvdXJjZSI6Imh0dHBzOi8vY2RuLWxmcy5odWdnaW5nZmFjZS5jby9kaXN0aWxncHQyL2UxZmYxODg4NDM1OWZlOGJlYjc5NWE1ZjQxNGZlYjg1YTZjZTNkOTI5YWQwMTljMGQ5NThjMDM5ZDJiOTRhMWI%7EcmVzcG9uc2UtY29udGVudC1kaXNwb3NpdGlvbj0qIn1dfQ__&Signature=QAIUrftO0ipKoo-ujt8sUIqDGuqy3uvEW3dSNeR-HVRLIlTJ0NTBAfNbvctgWodTVBNugcMCIEhcSTRbbDupCq2jzHot-yEqgD5i9TZZPlWwt2qMwWhq-G5P8C033lBVCcBnB29tG-byAvcn0q1XdnmZv8-K3CL8Cf4VIuBOKwV-WMjclpXpqLaNm3sR9QfvP3tEWDc4X6eTmdYp6zkjKuwOYr8sOTq9QincZDMlgrrjUTKoVFR4M8Vc4k4xnhZYSCh-pHwt2LbDkMXHwY1eiWUSaokafI3c0jEx9YWCtGPvnwxoTSUXAD-SYTLUCFh3u5pWhE9n2saa%7EDI6z%7E1pzw__&Key-Pair-Id=KVTP0A1DKRTAX: HTTPSConnectionPool(host='cdn-lfs.huggingface.co', port=443): Read timed out.\n",
      "Trying to resume download...\n"
     ]
    },
    {
     "data": {
      "application/vnd.jupyter.widget-view+json": {
       "model_id": "6afb2713000e4ee8b87bbeb871db03a2",
       "version_major": 2,
       "version_minor": 0
      },
      "text/plain": [
       "model.safetensors:  48%|####7     | 168M/353M [00:00<?, ?B/s]"
      ]
     },
     "metadata": {},
     "output_type": "display_data"
    },
    {
     "name": "stderr",
     "output_type": "stream",
     "text": [
      "Error while downloading from https://cdn-lfs.huggingface.co/distilgpt2/e1ff18884359fe8beb795a5f414feb85a6ce3d929ad019c0d958c039d2b94a1b?response-content-disposition=attachment%3B+filename*%3DUTF-8%27%27model.safetensors%3B+filename%3D%22model.safetensors%22%3B&Expires=1705337193&Policy=eyJTdGF0ZW1lbnQiOlt7IkNvbmRpdGlvbiI6eyJEYXRlTGVzc1RoYW4iOnsiQVdTOkVwb2NoVGltZSI6MTcwNTMzNzE5M319LCJSZXNvdXJjZSI6Imh0dHBzOi8vY2RuLWxmcy5odWdnaW5nZmFjZS5jby9kaXN0aWxncHQyL2UxZmYxODg4NDM1OWZlOGJlYjc5NWE1ZjQxNGZlYjg1YTZjZTNkOTI5YWQwMTljMGQ5NThjMDM5ZDJiOTRhMWI%7EcmVzcG9uc2UtY29udGVudC1kaXNwb3NpdGlvbj0qIn1dfQ__&Signature=QAIUrftO0ipKoo-ujt8sUIqDGuqy3uvEW3dSNeR-HVRLIlTJ0NTBAfNbvctgWodTVBNugcMCIEhcSTRbbDupCq2jzHot-yEqgD5i9TZZPlWwt2qMwWhq-G5P8C033lBVCcBnB29tG-byAvcn0q1XdnmZv8-K3CL8Cf4VIuBOKwV-WMjclpXpqLaNm3sR9QfvP3tEWDc4X6eTmdYp6zkjKuwOYr8sOTq9QincZDMlgrrjUTKoVFR4M8Vc4k4xnhZYSCh-pHwt2LbDkMXHwY1eiWUSaokafI3c0jEx9YWCtGPvnwxoTSUXAD-SYTLUCFh3u5pWhE9n2saa%7EDI6z%7E1pzw__&Key-Pair-Id=KVTP0A1DKRTAX: HTTPSConnectionPool(host='cdn-lfs.huggingface.co', port=443): Read timed out.\n",
      "Trying to resume download...\n"
     ]
    },
    {
     "data": {
      "application/vnd.jupyter.widget-view+json": {
       "model_id": "a272ed34ab2d484cba44f3d2a7fd381a",
       "version_major": 2,
       "version_minor": 0
      },
      "text/plain": [
       "model.safetensors:  68%|######8   | 241M/353M [00:00<?, ?B/s]"
      ]
     },
     "metadata": {},
     "output_type": "display_data"
    },
    {
     "name": "stderr",
     "output_type": "stream",
     "text": [
      "Error while downloading from https://cdn-lfs.huggingface.co/distilgpt2/e1ff18884359fe8beb795a5f414feb85a6ce3d929ad019c0d958c039d2b94a1b?response-content-disposition=attachment%3B+filename*%3DUTF-8%27%27model.safetensors%3B+filename%3D%22model.safetensors%22%3B&Expires=1705337193&Policy=eyJTdGF0ZW1lbnQiOlt7IkNvbmRpdGlvbiI6eyJEYXRlTGVzc1RoYW4iOnsiQVdTOkVwb2NoVGltZSI6MTcwNTMzNzE5M319LCJSZXNvdXJjZSI6Imh0dHBzOi8vY2RuLWxmcy5odWdnaW5nZmFjZS5jby9kaXN0aWxncHQyL2UxZmYxODg4NDM1OWZlOGJlYjc5NWE1ZjQxNGZlYjg1YTZjZTNkOTI5YWQwMTljMGQ5NThjMDM5ZDJiOTRhMWI%7EcmVzcG9uc2UtY29udGVudC1kaXNwb3NpdGlvbj0qIn1dfQ__&Signature=QAIUrftO0ipKoo-ujt8sUIqDGuqy3uvEW3dSNeR-HVRLIlTJ0NTBAfNbvctgWodTVBNugcMCIEhcSTRbbDupCq2jzHot-yEqgD5i9TZZPlWwt2qMwWhq-G5P8C033lBVCcBnB29tG-byAvcn0q1XdnmZv8-K3CL8Cf4VIuBOKwV-WMjclpXpqLaNm3sR9QfvP3tEWDc4X6eTmdYp6zkjKuwOYr8sOTq9QincZDMlgrrjUTKoVFR4M8Vc4k4xnhZYSCh-pHwt2LbDkMXHwY1eiWUSaokafI3c0jEx9YWCtGPvnwxoTSUXAD-SYTLUCFh3u5pWhE9n2saa%7EDI6z%7E1pzw__&Key-Pair-Id=KVTP0A1DKRTAX: HTTPSConnectionPool(host='cdn-lfs.huggingface.co', port=443): Read timed out.\n",
      "Trying to resume download...\n"
     ]
    },
    {
     "data": {
      "application/vnd.jupyter.widget-view+json": {
       "model_id": "66aef0bdb4664daab643f27be34259fe",
       "version_major": 2,
       "version_minor": 0
      },
      "text/plain": [
       "model.safetensors:  71%|#######1  | 252M/353M [00:00<?, ?B/s]"
      ]
     },
     "metadata": {},
     "output_type": "display_data"
    },
    {
     "name": "stderr",
     "output_type": "stream",
     "text": [
      "Error while downloading from https://cdn-lfs.huggingface.co/distilgpt2/e1ff18884359fe8beb795a5f414feb85a6ce3d929ad019c0d958c039d2b94a1b?response-content-disposition=attachment%3B+filename*%3DUTF-8%27%27model.safetensors%3B+filename%3D%22model.safetensors%22%3B&Expires=1705337193&Policy=eyJTdGF0ZW1lbnQiOlt7IkNvbmRpdGlvbiI6eyJEYXRlTGVzc1RoYW4iOnsiQVdTOkVwb2NoVGltZSI6MTcwNTMzNzE5M319LCJSZXNvdXJjZSI6Imh0dHBzOi8vY2RuLWxmcy5odWdnaW5nZmFjZS5jby9kaXN0aWxncHQyL2UxZmYxODg4NDM1OWZlOGJlYjc5NWE1ZjQxNGZlYjg1YTZjZTNkOTI5YWQwMTljMGQ5NThjMDM5ZDJiOTRhMWI%7EcmVzcG9uc2UtY29udGVudC1kaXNwb3NpdGlvbj0qIn1dfQ__&Signature=QAIUrftO0ipKoo-ujt8sUIqDGuqy3uvEW3dSNeR-HVRLIlTJ0NTBAfNbvctgWodTVBNugcMCIEhcSTRbbDupCq2jzHot-yEqgD5i9TZZPlWwt2qMwWhq-G5P8C033lBVCcBnB29tG-byAvcn0q1XdnmZv8-K3CL8Cf4VIuBOKwV-WMjclpXpqLaNm3sR9QfvP3tEWDc4X6eTmdYp6zkjKuwOYr8sOTq9QincZDMlgrrjUTKoVFR4M8Vc4k4xnhZYSCh-pHwt2LbDkMXHwY1eiWUSaokafI3c0jEx9YWCtGPvnwxoTSUXAD-SYTLUCFh3u5pWhE9n2saa%7EDI6z%7E1pzw__&Key-Pair-Id=KVTP0A1DKRTAX: HTTPSConnectionPool(host='cdn-lfs.huggingface.co', port=443): Read timed out.\n",
      "Trying to resume download...\n"
     ]
    },
    {
     "data": {
      "application/vnd.jupyter.widget-view+json": {
       "model_id": "b8950f81b9194427bc54aa9f82b63b2f",
       "version_major": 2,
       "version_minor": 0
      },
      "text/plain": [
       "model.safetensors:  71%|#######1  | 252M/353M [00:00<?, ?B/s]"
      ]
     },
     "metadata": {},
     "output_type": "display_data"
    },
    {
     "name": "stderr",
     "output_type": "stream",
     "text": [
      "Error while downloading from https://cdn-lfs.huggingface.co/distilgpt2/e1ff18884359fe8beb795a5f414feb85a6ce3d929ad019c0d958c039d2b94a1b?response-content-disposition=attachment%3B+filename*%3DUTF-8%27%27model.safetensors%3B+filename%3D%22model.safetensors%22%3B&Expires=1705337193&Policy=eyJTdGF0ZW1lbnQiOlt7IkNvbmRpdGlvbiI6eyJEYXRlTGVzc1RoYW4iOnsiQVdTOkVwb2NoVGltZSI6MTcwNTMzNzE5M319LCJSZXNvdXJjZSI6Imh0dHBzOi8vY2RuLWxmcy5odWdnaW5nZmFjZS5jby9kaXN0aWxncHQyL2UxZmYxODg4NDM1OWZlOGJlYjc5NWE1ZjQxNGZlYjg1YTZjZTNkOTI5YWQwMTljMGQ5NThjMDM5ZDJiOTRhMWI%7EcmVzcG9uc2UtY29udGVudC1kaXNwb3NpdGlvbj0qIn1dfQ__&Signature=QAIUrftO0ipKoo-ujt8sUIqDGuqy3uvEW3dSNeR-HVRLIlTJ0NTBAfNbvctgWodTVBNugcMCIEhcSTRbbDupCq2jzHot-yEqgD5i9TZZPlWwt2qMwWhq-G5P8C033lBVCcBnB29tG-byAvcn0q1XdnmZv8-K3CL8Cf4VIuBOKwV-WMjclpXpqLaNm3sR9QfvP3tEWDc4X6eTmdYp6zkjKuwOYr8sOTq9QincZDMlgrrjUTKoVFR4M8Vc4k4xnhZYSCh-pHwt2LbDkMXHwY1eiWUSaokafI3c0jEx9YWCtGPvnwxoTSUXAD-SYTLUCFh3u5pWhE9n2saa%7EDI6z%7E1pzw__&Key-Pair-Id=KVTP0A1DKRTAX: HTTPSConnectionPool(host='cdn-lfs.huggingface.co', port=443): Read timed out.\n",
      "Trying to resume download...\n"
     ]
    },
    {
     "data": {
      "application/vnd.jupyter.widget-view+json": {
       "model_id": "998e72a2bb584ac99d579a3fbcf4d42b",
       "version_major": 2,
       "version_minor": 0
      },
      "text/plain": [
       "model.safetensors:  80%|########  | 283M/353M [00:00<?, ?B/s]"
      ]
     },
     "metadata": {},
     "output_type": "display_data"
    },
    {
     "name": "stderr",
     "output_type": "stream",
     "text": [
      "Error while downloading from https://cdn-lfs.huggingface.co/distilgpt2/e1ff18884359fe8beb795a5f414feb85a6ce3d929ad019c0d958c039d2b94a1b?response-content-disposition=attachment%3B+filename*%3DUTF-8%27%27model.safetensors%3B+filename%3D%22model.safetensors%22%3B&Expires=1705337193&Policy=eyJTdGF0ZW1lbnQiOlt7IkNvbmRpdGlvbiI6eyJEYXRlTGVzc1RoYW4iOnsiQVdTOkVwb2NoVGltZSI6MTcwNTMzNzE5M319LCJSZXNvdXJjZSI6Imh0dHBzOi8vY2RuLWxmcy5odWdnaW5nZmFjZS5jby9kaXN0aWxncHQyL2UxZmYxODg4NDM1OWZlOGJlYjc5NWE1ZjQxNGZlYjg1YTZjZTNkOTI5YWQwMTljMGQ5NThjMDM5ZDJiOTRhMWI%7EcmVzcG9uc2UtY29udGVudC1kaXNwb3NpdGlvbj0qIn1dfQ__&Signature=QAIUrftO0ipKoo-ujt8sUIqDGuqy3uvEW3dSNeR-HVRLIlTJ0NTBAfNbvctgWodTVBNugcMCIEhcSTRbbDupCq2jzHot-yEqgD5i9TZZPlWwt2qMwWhq-G5P8C033lBVCcBnB29tG-byAvcn0q1XdnmZv8-K3CL8Cf4VIuBOKwV-WMjclpXpqLaNm3sR9QfvP3tEWDc4X6eTmdYp6zkjKuwOYr8sOTq9QincZDMlgrrjUTKoVFR4M8Vc4k4xnhZYSCh-pHwt2LbDkMXHwY1eiWUSaokafI3c0jEx9YWCtGPvnwxoTSUXAD-SYTLUCFh3u5pWhE9n2saa%7EDI6z%7E1pzw__&Key-Pair-Id=KVTP0A1DKRTAX: HTTPSConnectionPool(host='cdn-lfs.huggingface.co', port=443): Read timed out.\n",
      "Trying to resume download...\n"
     ]
    },
    {
     "data": {
      "application/vnd.jupyter.widget-view+json": {
       "model_id": "95cd39aa95954dd5b4e34bcadb80367c",
       "version_major": 2,
       "version_minor": 0
      },
      "text/plain": [
       "model.safetensors:  80%|########  | 283M/353M [00:00<?, ?B/s]"
      ]
     },
     "metadata": {},
     "output_type": "display_data"
    },
    {
     "name": "stderr",
     "output_type": "stream",
     "text": [
      "Error while downloading from https://cdn-lfs.huggingface.co/distilgpt2/e1ff18884359fe8beb795a5f414feb85a6ce3d929ad019c0d958c039d2b94a1b?response-content-disposition=attachment%3B+filename*%3DUTF-8%27%27model.safetensors%3B+filename%3D%22model.safetensors%22%3B&Expires=1705337193&Policy=eyJTdGF0ZW1lbnQiOlt7IkNvbmRpdGlvbiI6eyJEYXRlTGVzc1RoYW4iOnsiQVdTOkVwb2NoVGltZSI6MTcwNTMzNzE5M319LCJSZXNvdXJjZSI6Imh0dHBzOi8vY2RuLWxmcy5odWdnaW5nZmFjZS5jby9kaXN0aWxncHQyL2UxZmYxODg4NDM1OWZlOGJlYjc5NWE1ZjQxNGZlYjg1YTZjZTNkOTI5YWQwMTljMGQ5NThjMDM5ZDJiOTRhMWI%7EcmVzcG9uc2UtY29udGVudC1kaXNwb3NpdGlvbj0qIn1dfQ__&Signature=QAIUrftO0ipKoo-ujt8sUIqDGuqy3uvEW3dSNeR-HVRLIlTJ0NTBAfNbvctgWodTVBNugcMCIEhcSTRbbDupCq2jzHot-yEqgD5i9TZZPlWwt2qMwWhq-G5P8C033lBVCcBnB29tG-byAvcn0q1XdnmZv8-K3CL8Cf4VIuBOKwV-WMjclpXpqLaNm3sR9QfvP3tEWDc4X6eTmdYp6zkjKuwOYr8sOTq9QincZDMlgrrjUTKoVFR4M8Vc4k4xnhZYSCh-pHwt2LbDkMXHwY1eiWUSaokafI3c0jEx9YWCtGPvnwxoTSUXAD-SYTLUCFh3u5pWhE9n2saa%7EDI6z%7E1pzw__&Key-Pair-Id=KVTP0A1DKRTAX: HTTPSConnectionPool(host='cdn-lfs.huggingface.co', port=443): Read timed out.\n",
      "Trying to resume download...\n"
     ]
    },
    {
     "data": {
      "application/vnd.jupyter.widget-view+json": {
       "model_id": "42811c8d4fb047c3bda4614cc242854b",
       "version_major": 2,
       "version_minor": 0
      },
      "text/plain": [
       "model.safetensors:  80%|########  | 283M/353M [00:00<?, ?B/s]"
      ]
     },
     "metadata": {},
     "output_type": "display_data"
    },
    {
     "name": "stderr",
     "output_type": "stream",
     "text": [
      "Error while downloading from https://cdn-lfs.huggingface.co/distilgpt2/e1ff18884359fe8beb795a5f414feb85a6ce3d929ad019c0d958c039d2b94a1b?response-content-disposition=attachment%3B+filename*%3DUTF-8%27%27model.safetensors%3B+filename%3D%22model.safetensors%22%3B&Expires=1705337193&Policy=eyJTdGF0ZW1lbnQiOlt7IkNvbmRpdGlvbiI6eyJEYXRlTGVzc1RoYW4iOnsiQVdTOkVwb2NoVGltZSI6MTcwNTMzNzE5M319LCJSZXNvdXJjZSI6Imh0dHBzOi8vY2RuLWxmcy5odWdnaW5nZmFjZS5jby9kaXN0aWxncHQyL2UxZmYxODg4NDM1OWZlOGJlYjc5NWE1ZjQxNGZlYjg1YTZjZTNkOTI5YWQwMTljMGQ5NThjMDM5ZDJiOTRhMWI%7EcmVzcG9uc2UtY29udGVudC1kaXNwb3NpdGlvbj0qIn1dfQ__&Signature=QAIUrftO0ipKoo-ujt8sUIqDGuqy3uvEW3dSNeR-HVRLIlTJ0NTBAfNbvctgWodTVBNugcMCIEhcSTRbbDupCq2jzHot-yEqgD5i9TZZPlWwt2qMwWhq-G5P8C033lBVCcBnB29tG-byAvcn0q1XdnmZv8-K3CL8Cf4VIuBOKwV-WMjclpXpqLaNm3sR9QfvP3tEWDc4X6eTmdYp6zkjKuwOYr8sOTq9QincZDMlgrrjUTKoVFR4M8Vc4k4xnhZYSCh-pHwt2LbDkMXHwY1eiWUSaokafI3c0jEx9YWCtGPvnwxoTSUXAD-SYTLUCFh3u5pWhE9n2saa%7EDI6z%7E1pzw__&Key-Pair-Id=KVTP0A1DKRTAX: HTTPSConnectionPool(host='cdn-lfs.huggingface.co', port=443): Read timed out.\n",
      "Trying to resume download...\n"
     ]
    },
    {
     "data": {
      "application/vnd.jupyter.widget-view+json": {
       "model_id": "b26eabd73ad448b4a48780e38bd4fb16",
       "version_major": 2,
       "version_minor": 0
      },
      "text/plain": [
       "model.safetensors:  80%|########  | 283M/353M [00:00<?, ?B/s]"
      ]
     },
     "metadata": {},
     "output_type": "display_data"
    },
    {
     "name": "stderr",
     "output_type": "stream",
     "text": [
      "Error while downloading from https://cdn-lfs.huggingface.co/distilgpt2/e1ff18884359fe8beb795a5f414feb85a6ce3d929ad019c0d958c039d2b94a1b?response-content-disposition=attachment%3B+filename*%3DUTF-8%27%27model.safetensors%3B+filename%3D%22model.safetensors%22%3B&Expires=1705337193&Policy=eyJTdGF0ZW1lbnQiOlt7IkNvbmRpdGlvbiI6eyJEYXRlTGVzc1RoYW4iOnsiQVdTOkVwb2NoVGltZSI6MTcwNTMzNzE5M319LCJSZXNvdXJjZSI6Imh0dHBzOi8vY2RuLWxmcy5odWdnaW5nZmFjZS5jby9kaXN0aWxncHQyL2UxZmYxODg4NDM1OWZlOGJlYjc5NWE1ZjQxNGZlYjg1YTZjZTNkOTI5YWQwMTljMGQ5NThjMDM5ZDJiOTRhMWI%7EcmVzcG9uc2UtY29udGVudC1kaXNwb3NpdGlvbj0qIn1dfQ__&Signature=QAIUrftO0ipKoo-ujt8sUIqDGuqy3uvEW3dSNeR-HVRLIlTJ0NTBAfNbvctgWodTVBNugcMCIEhcSTRbbDupCq2jzHot-yEqgD5i9TZZPlWwt2qMwWhq-G5P8C033lBVCcBnB29tG-byAvcn0q1XdnmZv8-K3CL8Cf4VIuBOKwV-WMjclpXpqLaNm3sR9QfvP3tEWDc4X6eTmdYp6zkjKuwOYr8sOTq9QincZDMlgrrjUTKoVFR4M8Vc4k4xnhZYSCh-pHwt2LbDkMXHwY1eiWUSaokafI3c0jEx9YWCtGPvnwxoTSUXAD-SYTLUCFh3u5pWhE9n2saa%7EDI6z%7E1pzw__&Key-Pair-Id=KVTP0A1DKRTAX: HTTPSConnectionPool(host='cdn-lfs.huggingface.co', port=443): Read timed out.\n",
      "Trying to resume download...\n"
     ]
    },
    {
     "data": {
      "application/vnd.jupyter.widget-view+json": {
       "model_id": "eba96d88274b465a8ba668e0211e57cc",
       "version_major": 2,
       "version_minor": 0
      },
      "text/plain": [
       "model.safetensors:  83%|########3 | 294M/353M [00:00<?, ?B/s]"
      ]
     },
     "metadata": {},
     "output_type": "display_data"
    },
    {
     "name": "stderr",
     "output_type": "stream",
     "text": [
      "Error while downloading from https://cdn-lfs.huggingface.co/distilgpt2/e1ff18884359fe8beb795a5f414feb85a6ce3d929ad019c0d958c039d2b94a1b?response-content-disposition=attachment%3B+filename*%3DUTF-8%27%27model.safetensors%3B+filename%3D%22model.safetensors%22%3B&Expires=1705337193&Policy=eyJTdGF0ZW1lbnQiOlt7IkNvbmRpdGlvbiI6eyJEYXRlTGVzc1RoYW4iOnsiQVdTOkVwb2NoVGltZSI6MTcwNTMzNzE5M319LCJSZXNvdXJjZSI6Imh0dHBzOi8vY2RuLWxmcy5odWdnaW5nZmFjZS5jby9kaXN0aWxncHQyL2UxZmYxODg4NDM1OWZlOGJlYjc5NWE1ZjQxNGZlYjg1YTZjZTNkOTI5YWQwMTljMGQ5NThjMDM5ZDJiOTRhMWI%7EcmVzcG9uc2UtY29udGVudC1kaXNwb3NpdGlvbj0qIn1dfQ__&Signature=QAIUrftO0ipKoo-ujt8sUIqDGuqy3uvEW3dSNeR-HVRLIlTJ0NTBAfNbvctgWodTVBNugcMCIEhcSTRbbDupCq2jzHot-yEqgD5i9TZZPlWwt2qMwWhq-G5P8C033lBVCcBnB29tG-byAvcn0q1XdnmZv8-K3CL8Cf4VIuBOKwV-WMjclpXpqLaNm3sR9QfvP3tEWDc4X6eTmdYp6zkjKuwOYr8sOTq9QincZDMlgrrjUTKoVFR4M8Vc4k4xnhZYSCh-pHwt2LbDkMXHwY1eiWUSaokafI3c0jEx9YWCtGPvnwxoTSUXAD-SYTLUCFh3u5pWhE9n2saa%7EDI6z%7E1pzw__&Key-Pair-Id=KVTP0A1DKRTAX: HTTPSConnectionPool(host='cdn-lfs.huggingface.co', port=443): Read timed out.\n",
      "Trying to resume download...\n"
     ]
    },
    {
     "data": {
      "application/vnd.jupyter.widget-view+json": {
       "model_id": "23ea8490e3a8416592a9fd94e015e30d",
       "version_major": 2,
       "version_minor": 0
      },
      "text/plain": [
       "model.safetensors:  92%|#########2| 325M/353M [00:00<?, ?B/s]"
      ]
     },
     "metadata": {},
     "output_type": "display_data"
    },
    {
     "name": "stderr",
     "output_type": "stream",
     "text": [
      "All PyTorch model weights were used when initializing TFGPT2LMHeadModel.\n",
      "\n",
      "All the weights of TFGPT2LMHeadModel were initialized from the PyTorch model.\n",
      "If your task is similar to the task the model of the checkpoint was trained on, you can already use TFGPT2LMHeadModel for predictions without further training.\n"
     ]
    },
    {
     "data": {
      "application/vnd.jupyter.widget-view+json": {
       "model_id": "888b86310ea849a7b62999cce8e3ee0a",
       "version_major": 2,
       "version_minor": 0
      },
      "text/plain": [
       "vocab.json:   0%|          | 0.00/1.04M [00:00<?, ?B/s]"
      ]
     },
     "metadata": {},
     "output_type": "display_data"
    },
    {
     "data": {
      "application/vnd.jupyter.widget-view+json": {
       "model_id": "e7f2c0a2e7ce4bf4a05722b23cd32f29",
       "version_major": 2,
       "version_minor": 0
      },
      "text/plain": [
       "merges.txt:   0%|          | 0.00/456k [00:00<?, ?B/s]"
      ]
     },
     "metadata": {},
     "output_type": "display_data"
    },
    {
     "data": {
      "application/vnd.jupyter.widget-view+json": {
       "model_id": "8bb5185315a845a7a88d3e360c16f72a",
       "version_major": 2,
       "version_minor": 0
      },
      "text/plain": [
       "tokenizer.json:   0%|          | 0.00/1.36M [00:00<?, ?B/s]"
      ]
     },
     "metadata": {},
     "output_type": "display_data"
    },
    {
     "name": "stderr",
     "output_type": "stream",
     "text": [
      "Setting `pad_token_id` to `eos_token_id`:50256 for open-end generation.\n"
     ]
    },
    {
     "data": {
      "text/plain": [
       "[{'generated_text': 'Everybody want to do a great job at it, but it shouldn\\'t be that way.\"'}]"
      ]
     },
     "execution_count": 10,
     "metadata": {},
     "output_type": "execute_result"
    }
   ],
   "source": [
    "from transformers import pipeline\n",
    "\n",
    "generator = pipeline(\"text-generation\", model=\"distilgpt2\")\n",
    "generator(\"Everybody want to\",\n",
    "    max_length=30)"
   ]
  },
  {
   "cell_type": "code",
   "execution_count": null,
   "id": "db2a4535-47ba-49eb-be50-86929ae15857",
   "metadata": {},
   "outputs": [],
   "source": []
  }
 ],
 "metadata": {
  "kernelspec": {
   "display_name": "Python 3 (ipykernel)",
   "language": "python",
   "name": "python3"
  },
  "language_info": {
   "codemirror_mode": {
    "name": "ipython",
    "version": 3
   },
   "file_extension": ".py",
   "mimetype": "text/x-python",
   "name": "python",
   "nbconvert_exporter": "python",
   "pygments_lexer": "ipython3",
   "version": "3.10.11"
  }
 },
 "nbformat": 4,
 "nbformat_minor": 5
}
